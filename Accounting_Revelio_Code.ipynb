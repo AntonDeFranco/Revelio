{
 "cells": [
  {
   "cell_type": "markdown",
   "metadata": {},
   "source": [
    "# Imports"
   ]
  },
  {
   "cell_type": "code",
   "execution_count": 1,
   "metadata": {},
   "outputs": [],
   "source": [
    "import pandas as pd\n",
    "import os\n",
    "import random\n",
    "from fuzzywuzzy import fuzz\n",
    "from fuzzywuzzy import process\n",
    "import matplotlib.pyplot as plt\n",
    "import seaborn as sns\n"
   ]
  },
  {
   "cell_type": "markdown",
   "metadata": {},
   "source": [
    "# Create Function to Concat Datasets\n"
   ]
  },
  {
   "cell_type": "markdown",
   "metadata": {},
   "source": [
    "This function assists in managing the numerous small data chunks received."
   ]
  },
  {
   "cell_type": "code",
   "execution_count": 2,
   "metadata": {},
   "outputs": [],
   "source": [
    "def concat_csvs_in_directory(folder_path, output_path):\n",
    "    \"\"\"\n",
    "    Concatenates all CSV files in the specified directory and saves them to a single output CSV file.\n",
    "\n",
    "    Args:\n",
    "    folder_path (str): Path to the directory containing the CSV files.\n",
    "    output_path (str): Path where the concatenated CSV should be saved.\n",
    "    \"\"\"\n",
    "    dataframes = []\n",
    "    # Loop through all files in the folder\n",
    "    for file_name in os.listdir(folder_path):\n",
    "        # Check if the file is a CSV\n",
    "        if file_name.endswith('.csv'):\n",
    "            # Construct full file path\n",
    "            file_path = os.path.join(folder_path, file_name)\n",
    "            # Read the CSV file and append to the list\n",
    "            df = pd.read_csv(file_path)\n",
    "            dataframes.append(df)\n",
    "\n",
    "    # Concatenate all dataframes in the list\n",
    "    combined_df = pd.concat(dataframes, ignore_index=True)\n",
    "\n",
    "    # Save the combined dataframe to a new CSV file\n",
    "    combined_df.to_csv(output_path, index=False)\n",
    "\n",
    "    print(f\"Combined CSV saved to {output_path}\")\n"
   ]
  },
  {
   "cell_type": "markdown",
   "metadata": {},
   "source": [
    "# Fuzzy Match Implementation"
   ]
  },
  {
   "cell_type": "markdown",
   "metadata": {},
   "source": [
    "I believe the messy nature of the data necessitated the implementation of fuzzy matching due to the high volume of data entry errors."
   ]
  },
  {
   "cell_type": "code",
   "execution_count": 3,
   "metadata": {},
   "outputs": [
    {
     "name": "stdout",
     "output_type": "stream",
     "text": [
      "         user_id                                     university_raw  \\\n",
      "186    465783961                        Purdue University Northwest   \n",
      "679     43690696  Indiana University-Purdue University at Indian...   \n",
      "908   2010911373                           Purdue University Global   \n",
      "1544   125393177                                  Purdue University   \n",
      "1654   472792325                                  Purdue University   \n",
      "\n",
      "                                        university_name  education_number  \\\n",
      "186                         Purdue University Northwest                 2   \n",
      "679   Indiana University Purdue University Indianapolis                 1   \n",
      "908                            Purdue University Global                 2   \n",
      "1544                                  Purdue University                 2   \n",
      "1654                                  Purdue University                 2   \n",
      "\n",
      "       startdate     enddate    degree        field  \\\n",
      "186   2014-01-01  2015-01-31     empty  Engineering   \n",
      "679          NaN         NaN     empty   Accounting   \n",
      "908   2021-01-01  2022-01-31    Master    Education   \n",
      "1544         NaN         NaN  Bachelor   Accounting   \n",
      "1654  1981-01-01  1983-01-31     empty        empty   \n",
      "\n",
      "                     degree_raw  \\\n",
      "186                         NaN   \n",
      "679                         NaN   \n",
      "908   Master of Education - MEd   \n",
      "1544          Bachelor's degree   \n",
      "1654                        NaN   \n",
      "\n",
      "                                              field_raw  world_rank  us_rank  \\\n",
      "186   Mechanical Engineering/Mechanical Technology/T...         NaN      NaN   \n",
      "679                                          Accounting         NaN    348.0   \n",
      "908                                           Education         NaN      NaN   \n",
      "1544                                         Accounting        94.0     47.0   \n",
      "1654                                                NaN        94.0     47.0   \n",
      "\n",
      "     university_country       university_location  \n",
      "186       United States  Westville /  Hammond, IN  \n",
      "679                 NaN                       NaN  \n",
      "908                 NaN   West Lafayette, Indiana  \n",
      "1544      United States        West Lafayette, in  \n",
      "1654      United States        West Lafayette, in  \n"
     ]
    }
   ],
   "source": [
    "def is_purdue(university_name, threshold=90):\n",
    "    \"\"\"\n",
    "    Check if the university name matches \"Purdue\" with a similarity above the given threshold.\n",
    "    \n",
    "    Args:\n",
    "    - university_name (str): The university name to check.\n",
    "    - threshold (int): The similarity threshold for a match.\n",
    "    \n",
    "    Returns:\n",
    "    - bool: True if the similarity is above the threshold, False otherwise.\n",
    "    \"\"\"\n",
    "    similarity = fuzz.partial_ratio(\"Purdue\", university_name)\n",
    "    return similarity >= threshold\n",
    "\n",
    "df = pd.read_csv(r'C:\\Users\\thats\\Desktop\\Revelio\\Individual_data\\202403\\individual_user_education\\combined_csv.csv')\n",
    "\n",
    "df.head()\n",
    "df = df.dropna(subset=['university_name'])\n",
    "\n",
    "df_purdue = df[df['university_name'].apply(lambda x: is_purdue(x))]\n",
    "\n",
    "print(df_purdue.head())"
   ]
  },
  {
   "cell_type": "markdown",
   "metadata": {},
   "source": [
    "# Generate List of unique purdue ids"
   ]
  },
  {
   "cell_type": "markdown",
   "metadata": {},
   "source": [
    "We wanted to generate a list of unique Purdue ID's which will become the foundation of our future analysis."
   ]
  },
  {
   "cell_type": "code",
   "execution_count": 4,
   "metadata": {},
   "outputs": [
    {
     "data": {
      "text/plain": [
       "(14265,)"
      ]
     },
     "execution_count": 4,
     "metadata": {},
     "output_type": "execute_result"
    }
   ],
   "source": [
    "unique_user_ids = df_purdue['user_id'].unique()\n",
    "unique_user_ids.shape"
   ]
  },
  {
   "cell_type": "markdown",
   "metadata": {},
   "source": [
    "This code filters a DataFrame to include only the complete education profiles for unique user IDs, then checks and prints the number of unique individuals and total education records. It removes duplicate records, calculates the change in the number of observations due to duplicate deletion, and exports the cleaned data to a CSV file."
   ]
  },
  {
   "cell_type": "code",
   "execution_count": 5,
   "metadata": {},
   "outputs": [
    {
     "name": "stdout",
     "output_type": "stream",
     "text": [
      "Number of unique individuals: 14265\n",
      "Total education records: 59322\n",
      "Change in observations due to duplicate deletion is  -29661\n"
     ]
    }
   ],
   "source": [
    "# Filter the original DataFrame for complete education profiles of the unique IDs\n",
    "complete_education_profiles = df[df['user_id'].isin(unique_user_ids)]\n",
    "\n",
    "# Check the number of unique individuals and total education records in the filtered dataset\n",
    "                                        \n",
    "print(f\"Number of unique individuals: {complete_education_profiles['user_id'].nunique()}\")\n",
    "print(f\"Total education records: {len(complete_education_profiles)}\")\n",
    "\n",
    "values = complete_education_profiles.shape\n",
    "complete_profiles = complete_education_profiles.drop_duplicates()\n",
    "values_2 = complete_profiles.shape\n",
    "\n",
    "print(\"Change in observations due to duplicate deletion is \", values_2[0] - values[0])\n",
    "\n",
    "# Optionally, export this data to a CSV file for further analysis or sharing\n",
    "complete_profiles.to_csv('complete_education_profiles.csv', index=False)\n"
   ]
  },
  {
   "cell_type": "code",
   "execution_count": 6,
   "metadata": {},
   "outputs": [
    {
     "data": {
      "text/plain": [
       "(59322, 14)"
      ]
     },
     "execution_count": 6,
     "metadata": {},
     "output_type": "execute_result"
    }
   ],
   "source": [
    "complete_education_profiles.shape"
   ]
  },
  {
   "cell_type": "code",
   "execution_count": 7,
   "metadata": {},
   "outputs": [
    {
     "data": {
      "text/plain": [
       "university_name\n",
       "Purdue University                                    13518\n",
       "Indiana University Purdue University Indianapolis     7242\n",
       "Purdue University Global                              5950\n",
       "Purdue University Northwest                           5336\n",
       "Purdue University Fort Wayne                          3686\n",
       "                                                     ...  \n",
       "south knox high school                                   2\n",
       "wilson high school                                       2\n",
       "sri jayachamarajendra college of engg mysore             2\n",
       "Faulkner University                                      2\n",
       "University of North Carolina Greensboro                  2\n",
       "Name: count, Length: 3719, dtype: int64"
      ]
     },
     "execution_count": 7,
     "metadata": {},
     "output_type": "execute_result"
    }
   ],
   "source": [
    "complete_education_profiles['university_name'].value_counts()"
   ]
  },
  {
   "cell_type": "markdown",
   "metadata": {},
   "source": [
    "This code filters the DataFrame to handle edge cases by ensuring 'university_name' has at least 4 characters, converts 'user_id' to integers, and exports the filtered data to a CSV file."
   ]
  },
  {
   "cell_type": "code",
   "execution_count": 8,
   "metadata": {},
   "outputs": [
    {
     "name": "stderr",
     "output_type": "stream",
     "text": [
      "<ipython-input-8-511d55cf9308>:5: SettingWithCopyWarning: \n",
      "A value is trying to be set on a copy of a slice from a DataFrame.\n",
      "Try using .loc[row_indexer,col_indexer] = value instead\n",
      "\n",
      "See the caveats in the documentation: https://pandas.pydata.org/pandas-docs/stable/user_guide/indexing.html#returning-a-view-versus-a-copy\n",
      "  df_filtered['user_id'] = df_filtered['user_id'].astype(int)\n"
     ]
    }
   ],
   "source": [
    "# This line handles several edge cases that were returned through fuzzy match\n",
    "df_filtered = complete_education_profiles[complete_education_profiles['university_name'].str.len() >= 4] \n",
    "\n",
    "# Ensure that all user_id's are set as integers\n",
    "df_filtered['user_id'] = df_filtered['user_id'].astype(int)\n",
    "\n",
    "# Export to a CSV for analysis\n",
    "df_filtered.to_csv('complete_education_profiles_filtered.csv')"
   ]
  },
  {
   "cell_type": "markdown",
   "metadata": {},
   "source": [
    "# Merge Purdue Dataset with the Skills Dataset\n"
   ]
  },
  {
   "cell_type": "markdown",
   "metadata": {},
   "source": [
    "This code reads a CSV file into a DataFrame, sorts it by 'user_id' in ascending order, resets the index, and drops the 'Unnamed: 0' column."
   ]
  },
  {
   "cell_type": "code",
   "execution_count": 9,
   "metadata": {
    "scrolled": true
   },
   "outputs": [],
   "source": [
    "temp_df = pd.read_csv('complete_education_profiles_filtered.csv')\n",
    "temp_sorted = temp_df.sort_values(by='user_id', ascending=True)\n",
    "temp_sorted = temp_sorted.reset_index(drop=True)\n",
    "temp_sorted = temp_sorted.drop(columns=['Unnamed: 0'])"
   ]
  },
  {
   "cell_type": "code",
   "execution_count": 10,
   "metadata": {},
   "outputs": [
    {
     "name": "stdout",
     "output_type": "stream",
     "text": [
      "Change in observations due to duplicate deletion is  -29639\n"
     ]
    }
   ],
   "source": [
    "# drop duplicates on user_id and keep track of how many obs were lost\n",
    "# It was at this point I realized that all the data originally given was duplicated once\n",
    "values = temp_sorted.shape\n",
    "purdue_unique = temp_sorted.drop_duplicates()\n",
    "values_2 = purdue_unique.shape\n",
    "\n",
    "print(\"Change in observations due to duplicate deletion is \", values_2[0] - values[0])\n",
    "purdue_unique.shape\n",
    "\n",
    "purdue_unique.to_csv('Purdue_unique.csv')"
   ]
  },
  {
   "cell_type": "markdown",
   "metadata": {},
   "source": [
    "# Merge Small Chunks into One"
   ]
  },
  {
   "cell_type": "markdown",
   "metadata": {},
   "source": [
    "The following code cells are commented out because they are no longer needed. The purpose of these two blocks is to combine all the smaller datasets from each data subset into one."
   ]
  },
  {
   "cell_type": "code",
   "execution_count": 11,
   "metadata": {
    "scrolled": true
   },
   "outputs": [
    {
     "ename": "SyntaxError",
     "evalue": "(unicode error) 'unicodeescape' codec can't decode bytes in position 68-69: truncated \\UXXXXXXXX escape (<ipython-input-11-770b68c83e20>, line 1)",
     "output_type": "error",
     "traceback": [
      "\u001b[1;36m  File \u001b[1;32m\"<ipython-input-11-770b68c83e20>\"\u001b[1;36m, line \u001b[1;32m1\u001b[0m\n\u001b[1;33m    \"\"\"\u001b[0m\n\u001b[1;37m    ^\u001b[0m\n\u001b[1;31mSyntaxError\u001b[0m\u001b[1;31m:\u001b[0m (unicode error) 'unicodeescape' codec can't decode bytes in position 68-69: truncated \\UXXXXXXXX escape\n"
     ]
    }
   ],
   "source": [
    "\"\"\"\n",
    "# create gigafile for each data chunk\n",
    "concat_csvs_in_directory(r'C:\\Users\\thats\\Desktop\\Revelio\\Individual_data\\202403\\individual_position',\n",
    "\n",
    "r'C:\\Users\\thats\\Desktop\\Revelio\\Individual_data\\202403\\individual_position\\combined_position.csv')\n",
    "\n",
    "\"\"\""
   ]
  },
  {
   "cell_type": "code",
   "execution_count": null,
   "metadata": {},
   "outputs": [],
   "source": [
    "\"\"\"\n",
    "concat_csvs_in_directory(r'C:\\Users\\thats\\Desktop\\Revelio\\Individual_data\\202403\\individual_user',\n",
    "                         r'C:\\Users\\thats\\Desktop\\Revelio\\Individual_data\\202403\\individual_user\\combined_user.csv')\n",
    "concat_csvs_in_directory(r'C:\\Users\\thats\\Desktop\\Revelio\\Individual_data\\202403\\individual_user_certifications',\n",
    "                         r'C:\\Users\\thats\\Desktop\\Revelio\\Individual_data\\202403\\individual_user_certifications\\combined_certifications.csv')\n",
    "concat_csvs_in_directory(r'C:\\Users\\thats\\Desktop\\Revelio\\Individual_data\\202403\\individual_user_skill',\n",
    "                         r'C:\\Users\\thats\\Desktop\\Revelio\\Individual_data\\202403\\individual_user_skill\\combined_skill.csv')\n",
    "\n",
    "\"\"\""
   ]
  },
  {
   "cell_type": "markdown",
   "metadata": {},
   "source": [
    "# Merge the Individual User Data to get the Linkedin Profile Link"
   ]
  },
  {
   "cell_type": "code",
   "execution_count": 12,
   "metadata": {},
   "outputs": [],
   "source": [
    "df_individual_user = pd.read_csv(r'C:\\Users\\thats\\Desktop\\Revelio\\Individual_data\\202403\\individual_user\\combined_user.csv')\n",
    "df_individual_user['user_id'] = df_individual_user['user_id'].astype(int)\n",
    "\n",
    "final_df = df_filtered.merge(df_individual_user, on= 'user_id', how = 'left')"
   ]
  },
  {
   "cell_type": "markdown",
   "metadata": {},
   "source": [
    "## The next step is to check for any missing values "
   ]
  },
  {
   "cell_type": "markdown",
   "metadata": {},
   "source": [
    "This code initializes a dictionary to store the count of missing values per column, iterates through each column in the DataFrame to count the missing values, stores these counts in the dictionary, and then prints the number of missing values for each column."
   ]
  },
  {
   "cell_type": "code",
   "execution_count": 13,
   "metadata": {},
   "outputs": [
    {
     "name": "stdout",
     "output_type": "stream",
     "text": [
      "Missing values in 'user_id': 0\n",
      "Missing values in 'university_raw': 6\n",
      "Missing values in 'university_name': 0\n",
      "Missing values in 'education_number': 0\n",
      "Missing values in 'startdate': 16446\n",
      "Missing values in 'enddate': 16794\n",
      "Missing values in 'degree': 0\n",
      "Missing values in 'field': 0\n",
      "Missing values in 'degree_raw': 9530\n",
      "Missing values in 'field_raw': 9840\n",
      "Missing values in 'world_rank': 43732\n",
      "Missing values in 'us_rank': 33664\n",
      "Missing values in 'university_country': 27702\n",
      "Missing values in 'university_location': 22082\n",
      "Missing values in 'firstname': 32\n",
      "Missing values in 'lastname': 226\n",
      "Missing values in 'fullname': 0\n",
      "Missing values in 'f_prob': 0\n",
      "Missing values in 'm_prob': 0\n",
      "Missing values in 'white_prob': 0\n",
      "Missing values in 'black_prob': 0\n",
      "Missing values in 'api_prob': 0\n",
      "Missing values in 'hispanic_prob': 0\n",
      "Missing values in 'native_prob': 0\n",
      "Missing values in 'multiple_prob': 0\n",
      "Missing values in 'prestige': 0\n",
      "Missing values in 'highest_degree': 0\n",
      "Missing values in 'sex_predicted': 0\n",
      "Missing values in 'ethnicity_predicted': 18\n",
      "Missing values in 'profile_linkedin_url': 0\n",
      "Missing values in 'user_location': 0\n",
      "Missing values in 'user_country': 0\n",
      "Missing values in 'profile_title': 298\n",
      "Missing values in 'updated_dt': 0\n",
      "Missing values in 'numconnections': 16290\n",
      "Missing values in 'profile_summary': 32170\n"
     ]
    }
   ],
   "source": [
    "# Initialize a dictionary to store the count of missing values per column\n",
    "missing_values = {}\n",
    "\n",
    "# Iterate through each column in the DataFrame\n",
    "for column in final_df.columns:\n",
    "    # Count the number of missing values in the column\n",
    "    missing_count = final_df[column].isna().sum()\n",
    "    # Store the count in the dictionary\n",
    "    missing_values[column] = missing_count\n",
    "\n",
    "# Print the dictionary to see the missing values count per column\n",
    "for column, count in missing_values.items():\n",
    "    print(f\"Missing values in '{column}': {count}\")\n"
   ]
  },
  {
   "cell_type": "code",
   "execution_count": 14,
   "metadata": {},
   "outputs": [
    {
     "data": {
      "text/plain": [
       "(59278, 36)"
      ]
     },
     "execution_count": 14,
     "metadata": {},
     "output_type": "execute_result"
    }
   ],
   "source": [
    "final_df.shape"
   ]
  },
  {
   "cell_type": "code",
   "execution_count": 15,
   "metadata": {},
   "outputs": [],
   "source": [
    "final_df = final_df.drop_duplicates()"
   ]
  },
  {
   "cell_type": "markdown",
   "metadata": {},
   "source": [
    "This code defines a list of university names of interest, filters the DataFrame for Bachelor's degrees in Accounting from these universities, identifies the unique user IDs of students meeting these criteria, and prints the number of these unique user IDs."
   ]
  },
  {
   "cell_type": "code",
   "execution_count": 16,
   "metadata": {},
   "outputs": [
    {
     "name": "stdout",
     "output_type": "stream",
     "text": [
      "1553\n"
     ]
    }
   ],
   "source": [
    "# Define the universities we are interested in at this point in time\n",
    "university_names = [\n",
    "    'Purdue University',\n",
    "    'Purdue University Krannert School Of Management',\n",
    "    'Purdue University Daniels School Of Business',\n",
    "    'Purdue University - Krannert School of Management',\n",
    "    \n",
    "]\n",
    "\n",
    "# Filter for Bachelor's degree at Purdue University majoring in Accounting\n",
    "df_accounting_purdue_temp = final_df[\n",
    "    (final_df['degree'] == 'Bachelor') &  # Filter by degree type\n",
    "    (final_df['university_name'].isin(university_names)) &  # University contains 'Purdue'\n",
    "    (final_df['field'].str.contains('Accounting', case=False, na=False))  # Field contains 'Accounting'\n",
    "]\n",
    "\n",
    "purdue_accounting_undergrads = df_accounting_purdue_temp['user_id'].unique()\n",
    "\n",
    "print(len(purdue_accounting_undergrads))"
   ]
  },
  {
   "cell_type": "markdown",
   "metadata": {},
   "source": [
    "### At this point, we have a list of all unique purdue undergrads that graduated with an accounting degree"
   ]
  },
  {
   "cell_type": "code",
   "execution_count": 17,
   "metadata": {},
   "outputs": [
    {
     "data": {
      "text/html": [
       "<div>\n",
       "<style scoped>\n",
       "    .dataframe tbody tr th:only-of-type {\n",
       "        vertical-align: middle;\n",
       "    }\n",
       "\n",
       "    .dataframe tbody tr th {\n",
       "        vertical-align: top;\n",
       "    }\n",
       "\n",
       "    .dataframe thead th {\n",
       "        text-align: right;\n",
       "    }\n",
       "</style>\n",
       "<table border=\"1\" class=\"dataframe\">\n",
       "  <thead>\n",
       "    <tr style=\"text-align: right;\">\n",
       "      <th></th>\n",
       "      <th>user_id</th>\n",
       "    </tr>\n",
       "  </thead>\n",
       "  <tbody>\n",
       "    <tr>\n",
       "      <th>0</th>\n",
       "      <td>125393177</td>\n",
       "    </tr>\n",
       "    <tr>\n",
       "      <th>1</th>\n",
       "      <td>400649920</td>\n",
       "    </tr>\n",
       "    <tr>\n",
       "      <th>2</th>\n",
       "      <td>129155434</td>\n",
       "    </tr>\n",
       "    <tr>\n",
       "      <th>3</th>\n",
       "      <td>980998042</td>\n",
       "    </tr>\n",
       "    <tr>\n",
       "      <th>4</th>\n",
       "      <td>537443530</td>\n",
       "    </tr>\n",
       "    <tr>\n",
       "      <th>...</th>\n",
       "      <td>...</td>\n",
       "    </tr>\n",
       "    <tr>\n",
       "      <th>1548</th>\n",
       "      <td>582533121</td>\n",
       "    </tr>\n",
       "    <tr>\n",
       "      <th>1549</th>\n",
       "      <td>667479403</td>\n",
       "    </tr>\n",
       "    <tr>\n",
       "      <th>1550</th>\n",
       "      <td>528715669</td>\n",
       "    </tr>\n",
       "    <tr>\n",
       "      <th>1551</th>\n",
       "      <td>389112648</td>\n",
       "    </tr>\n",
       "    <tr>\n",
       "      <th>1552</th>\n",
       "      <td>222513944</td>\n",
       "    </tr>\n",
       "  </tbody>\n",
       "</table>\n",
       "<p>1553 rows × 1 columns</p>\n",
       "</div>"
      ],
      "text/plain": [
       "        user_id\n",
       "0     125393177\n",
       "1     400649920\n",
       "2     129155434\n",
       "3     980998042\n",
       "4     537443530\n",
       "...         ...\n",
       "1548  582533121\n",
       "1549  667479403\n",
       "1550  528715669\n",
       "1551  389112648\n",
       "1552  222513944\n",
       "\n",
       "[1553 rows x 1 columns]"
      ]
     },
     "execution_count": 17,
     "metadata": {},
     "output_type": "execute_result"
    }
   ],
   "source": [
    "# conver a list to a 1-column dataset\n",
    "df_purdue_accounting_undergrads = pd.DataFrame(purdue_accounting_undergrads, columns=['user_id'])\n",
    "df_purdue_accounting_undergrads"
   ]
  },
  {
   "cell_type": "markdown",
   "metadata": {},
   "source": [
    "# Get the Start and End Date of Their Tenure at Purdue"
   ]
  },
  {
   "cell_type": "code",
   "execution_count": 18,
   "metadata": {},
   "outputs": [],
   "source": [
    "temp_df_users = pd.read_csv(r'C:\\Users\\thats\\Desktop\\Revelio\\Individual_data\\202403\\individual_user\\combined_user.csv')"
   ]
  },
  {
   "cell_type": "code",
   "execution_count": 19,
   "metadata": {},
   "outputs": [],
   "source": [
    "# The next step is to get the start and end date as well as the name of everyone on this list\n",
    "df_purdue_accounting_undergrads_names = pd.merge(df_purdue_accounting_undergrads, \n",
    "                                                 temp_df_users[['firstname','lastname','user_id']],on='user_id',how='left')"
   ]
  },
  {
   "cell_type": "code",
   "execution_count": 20,
   "metadata": {},
   "outputs": [
    {
     "data": {
      "text/plain": [
       "user_id\n",
       "125393177    1\n",
       "533164213    1\n",
       "337176965    1\n",
       "126461328    1\n",
       "453662262    1\n",
       "            ..\n",
       "10878780     1\n",
       "327482471    1\n",
       "538364854    1\n",
       "396601299    1\n",
       "222513944    1\n",
       "Name: count, Length: 1553, dtype: int64"
      ]
     },
     "execution_count": 20,
     "metadata": {},
     "output_type": "execute_result"
    }
   ],
   "source": [
    "df_purdue_accounting_undergrads_names['user_id'].value_counts() # Check that there are no duplicates"
   ]
  },
  {
   "cell_type": "markdown",
   "metadata": {},
   "source": [
    "This code loads the education dataset from a CSV file, filters it to include only records that match specific criteria (user IDs in a specified list, specific university names, Bachelor's degrees, and Accounting field), removes duplicate records, and displays the shape of the filtered DataFrame."
   ]
  },
  {
   "cell_type": "code",
   "execution_count": 21,
   "metadata": {},
   "outputs": [
    {
     "name": "stderr",
     "output_type": "stream",
     "text": [
      "<ipython-input-21-f1c2116bf09e>:14: SettingWithCopyWarning: \n",
      "A value is trying to be set on a copy of a slice from a DataFrame\n",
      "\n",
      "See the caveats in the documentation: https://pandas.pydata.org/pandas-docs/stable/user_guide/indexing.html#returning-a-view-versus-a-copy\n",
      "  filtered_education.drop_duplicates(inplace=True)\n"
     ]
    },
    {
     "data": {
      "text/plain": [
       "(1578, 14)"
      ]
     },
     "execution_count": 21,
     "metadata": {},
     "output_type": "execute_result"
    }
   ],
   "source": [
    "#prep the education dataset to be merged\n",
    "# Load the education dataset\n",
    "temp_df_education = pd.read_csv(r\"C:\\Users\\thats\\Desktop\\Revelio\\Individual_data\\202403\\individual_user_education\\combined_csv.csv\")\n",
    "\n",
    "# Filter the DataFrame to include only specific criteria\n",
    "filtered_education = temp_df_education[\n",
    "    (temp_df_education['user_id'].isin(df_purdue_accounting_undergrads['user_id'])) &  # Ensure you reference the column correctly if it's a DataFrame\n",
    "    (temp_df_education['university_name'].isin(university_names)) &\n",
    "    (temp_df_education['degree'].str.contains('Bachelor', case=False, na=False)) &\n",
    "    (temp_df_education['field'].str.contains('Accounting', case=False, na=False))# Check if university name is in the list of specified names\n",
    "]\n",
    "\n",
    "# Display the first few rows of the filtered DataFrame to verify\n",
    "filtered_education.drop_duplicates(inplace=True)\n",
    "filtered_education.shape"
   ]
  },
  {
   "cell_type": "code",
   "execution_count": 22,
   "metadata": {},
   "outputs": [],
   "source": [
    "# next, add the start and end date of each student's tenure at purdue\n",
    "df_purdue_accounting_undergrads_names_date = df_purdue_accounting_undergrads_names.merge(filtered_education[['startdate','enddate','user_id']],on='user_id',how='left')\n",
    "df_purdue_accounting_undergrads_names_date.drop_duplicates(inplace=True)\n",
    "df_purdue_accounting_undergrads_names_date.to_csv('purdue_accounting_undergrads_names_date.csv')"
   ]
  },
  {
   "cell_type": "code",
   "execution_count": 23,
   "metadata": {},
   "outputs": [
    {
     "data": {
      "text/plain": [
       "user_id\n",
       "220653150     2\n",
       "368480770     2\n",
       "508215412     2\n",
       "435317016     2\n",
       "441426687     2\n",
       "             ..\n",
       "98510948      1\n",
       "2034974520    1\n",
       "868686414     1\n",
       "10878780      1\n",
       "222513944     1\n",
       "Name: count, Length: 1553, dtype: int64"
      ]
     },
     "execution_count": 23,
     "metadata": {},
     "output_type": "execute_result"
    }
   ],
   "source": [
    "df_purdue_accounting_undergrads_names_date['user_id'].value_counts()"
   ]
  },
  {
   "cell_type": "code",
   "execution_count": 24,
   "metadata": {},
   "outputs": [],
   "source": [
    "import pandas as pd\n",
    "\n",
    "# Assuming 'df' is your DataFrame and is already loaded.\n",
    "# Example loading DataFrame if needed:\n",
    "# df = pd.read_csv('path_to_your_file.csv')\n",
    "\n",
    "# List of user_ids to remove\n",
    "user_ids_to_remove = [441426687, 508215412, 231858506, 356317378]\n",
    "\n",
    "# Filter the DataFrame to exclude rows where user_id is in the list of user_ids_to_remove\n",
    "\n",
    "duplicates = df_purdue_accounting_undergrads_names_date.duplicated(subset=['user_id'], keep = False)\n",
    "\n",
    "duplicate_rows = df_purdue_accounting_undergrads_names_date[duplicates]\n",
    "\n",
    "# Display the cleaned DataFrame to verify rows are dropped\n",
    "# Optionally, save the cleaned DataFrame to a new CSV file\n",
    "# cleaned_df.to_csv('cleaned_data.csv', index=False)\n"
   ]
  },
  {
   "cell_type": "code",
   "execution_count": 25,
   "metadata": {},
   "outputs": [],
   "source": [
    "# The duplicate records were not dropping from the dataset, so I eliminated these rows manually.\n",
    "# for user_id no. 12972347 there seemed to be a conflict between the universtiy raw and university name for both indicies so I dropped both"
   ]
  },
  {
   "cell_type": "code",
   "execution_count": 26,
   "metadata": {},
   "outputs": [],
   "source": [
    "index_to_drop = [71, 171, 206, 237, 422, 619, 620,655,1179]\n",
    "df_purdue_accounting_undergrads_names_date = df_purdue_accounting_undergrads_names_date.drop(index_to_drop)\n"
   ]
  },
  {
   "cell_type": "markdown",
   "metadata": {},
   "source": [
    "# Check if the student went on to get a master's degree in Accounting"
   ]
  },
  {
   "cell_type": "code",
   "execution_count": 27,
   "metadata": {},
   "outputs": [
    {
     "name": "stderr",
     "output_type": "stream",
     "text": [
      "<ipython-input-27-5274dbb779bf>:7: SettingWithCopyWarning: \n",
      "A value is trying to be set on a copy of a slice from a DataFrame\n",
      "\n",
      "See the caveats in the documentation: https://pandas.pydata.org/pandas-docs/stable/user_guide/indexing.html#returning-a-view-versus-a-copy\n",
      "  filtered_education.drop_duplicates(inplace=True)\n"
     ]
    }
   ],
   "source": [
    "# Filter the DataFrame to include only specific criteria\n",
    "filtered_education = temp_df_education[\n",
    "    (temp_df_education['user_id'].isin(df_purdue_accounting_undergrads_names_date['user_id'])) &  # Ensure you reference the column correctly if it's a DataFrame\n",
    "    (temp_df_education['degree'].str.contains('MBA|Master', case=False, na=False)) &\n",
    "    (temp_df_education['field'].str.contains('Accounting', case=False, na=False))# Check if university name is in the list of specified names\n",
    "]\n",
    "filtered_education.drop_duplicates(inplace=True)\n"
   ]
  },
  {
   "cell_type": "markdown",
   "metadata": {},
   "source": [
    "# Set students who got a master's degree in accounting to a 1 in the 'Master' column"
   ]
  },
  {
   "cell_type": "code",
   "execution_count": 28,
   "metadata": {},
   "outputs": [
    {
     "name": "stderr",
     "output_type": "stream",
     "text": [
      "<ipython-input-28-02c567d9ff0a>:1: SettingWithCopyWarning: \n",
      "A value is trying to be set on a copy of a slice from a DataFrame.\n",
      "Try using .loc[row_indexer,col_indexer] = value instead\n",
      "\n",
      "See the caveats in the documentation: https://pandas.pydata.org/pandas-docs/stable/user_guide/indexing.html#returning-a-view-versus-a-copy\n",
      "  filtered_education['Master'] = 1\n"
     ]
    }
   ],
   "source": [
    "filtered_education['Master'] = 1"
   ]
  },
  {
   "cell_type": "code",
   "execution_count": 29,
   "metadata": {},
   "outputs": [
    {
     "data": {
      "text/html": [
       "<div>\n",
       "<style scoped>\n",
       "    .dataframe tbody tr th:only-of-type {\n",
       "        vertical-align: middle;\n",
       "    }\n",
       "\n",
       "    .dataframe tbody tr th {\n",
       "        vertical-align: top;\n",
       "    }\n",
       "\n",
       "    .dataframe thead th {\n",
       "        text-align: right;\n",
       "    }\n",
       "</style>\n",
       "<table border=\"1\" class=\"dataframe\">\n",
       "  <thead>\n",
       "    <tr style=\"text-align: right;\">\n",
       "      <th></th>\n",
       "      <th>user_id</th>\n",
       "      <th>Master</th>\n",
       "    </tr>\n",
       "  </thead>\n",
       "  <tbody>\n",
       "    <tr>\n",
       "      <th>47619</th>\n",
       "      <td>459187572</td>\n",
       "      <td>1</td>\n",
       "    </tr>\n",
       "    <tr>\n",
       "      <th>53217</th>\n",
       "      <td>374582846</td>\n",
       "      <td>1</td>\n",
       "    </tr>\n",
       "    <tr>\n",
       "      <th>68020</th>\n",
       "      <td>679869631</td>\n",
       "      <td>1</td>\n",
       "    </tr>\n",
       "    <tr>\n",
       "      <th>70944</th>\n",
       "      <td>585433982</td>\n",
       "      <td>1</td>\n",
       "    </tr>\n",
       "    <tr>\n",
       "      <th>96391</th>\n",
       "      <td>569815254</td>\n",
       "      <td>1</td>\n",
       "    </tr>\n",
       "    <tr>\n",
       "      <th>...</th>\n",
       "      <td>...</td>\n",
       "      <td>...</td>\n",
       "    </tr>\n",
       "    <tr>\n",
       "      <th>5045152</th>\n",
       "      <td>584922206</td>\n",
       "      <td>1</td>\n",
       "    </tr>\n",
       "    <tr>\n",
       "      <th>5072858</th>\n",
       "      <td>10518076</td>\n",
       "      <td>1</td>\n",
       "    </tr>\n",
       "    <tr>\n",
       "      <th>5076707</th>\n",
       "      <td>167703224</td>\n",
       "      <td>1</td>\n",
       "    </tr>\n",
       "    <tr>\n",
       "      <th>5145232</th>\n",
       "      <td>149266536</td>\n",
       "      <td>1</td>\n",
       "    </tr>\n",
       "    <tr>\n",
       "      <th>5175072</th>\n",
       "      <td>546762122</td>\n",
       "      <td>1</td>\n",
       "    </tr>\n",
       "  </tbody>\n",
       "</table>\n",
       "<p>99 rows × 2 columns</p>\n",
       "</div>"
      ],
      "text/plain": [
       "           user_id  Master\n",
       "47619    459187572       1\n",
       "53217    374582846       1\n",
       "68020    679869631       1\n",
       "70944    585433982       1\n",
       "96391    569815254       1\n",
       "...            ...     ...\n",
       "5045152  584922206       1\n",
       "5072858   10518076       1\n",
       "5076707  167703224       1\n",
       "5145232  149266536       1\n",
       "5175072  546762122       1\n",
       "\n",
       "[99 rows x 2 columns]"
      ]
     },
     "execution_count": 29,
     "metadata": {},
     "output_type": "execute_result"
    }
   ],
   "source": [
    "filtered_education = filtered_education[['user_id','Master']]\n",
    "filtered_education"
   ]
  },
  {
   "cell_type": "markdown",
   "metadata": {},
   "source": [
    "Merge back into the other dataset from before."
   ]
  },
  {
   "cell_type": "code",
   "execution_count": 30,
   "metadata": {},
   "outputs": [],
   "source": [
    "df_purdue_accounting_undergrads_names_date_master = df_purdue_accounting_undergrads_names_date.merge(filtered_education, on='user_id',how='left')\n",
    "\n",
    "#Fill all of the Nan's with 0 \n",
    "\n",
    "df_purdue_accounting_undergrads_names_date_master['Master'] = df_purdue_accounting_undergrads_names_date_master['Master'].fillna(0)"
   ]
  },
  {
   "cell_type": "code",
   "execution_count": 31,
   "metadata": {},
   "outputs": [
    {
     "data": {
      "text/plain": [
       "Index(['user_id', 'firstname', 'lastname', 'startdate', 'enddate', 'Master'], dtype='object')"
      ]
     },
     "execution_count": 31,
     "metadata": {},
     "output_type": "execute_result"
    }
   ],
   "source": [
    "df_purdue_accounting_undergrads_names_date_master.columns"
   ]
  },
  {
   "cell_type": "markdown",
   "metadata": {},
   "source": [
    "# Who went on to get a CPA?"
   ]
  },
  {
   "cell_type": "code",
   "execution_count": 32,
   "metadata": {},
   "outputs": [],
   "source": [
    "# prep the certifications dataset to be merged\n",
    "# Load the certification dataset\n",
    "temp_df_cert = pd.read_csv(r\"C:\\Users\\thats\\Desktop\\Revelio\\Individual_data\\202403\\individual_user_certifications\\combined_certifications.csv\")"
   ]
  },
  {
   "cell_type": "code",
   "execution_count": 33,
   "metadata": {},
   "outputs": [
    {
     "data": {
      "text/plain": [
       "cert_name\n",
       "Certified Public Accountant                                                                                        107102\n",
       "CPA                                                                                                                 34445\n",
       "Certified Public Accountant (CPA)                                                                                   21441\n",
       "Notary Public                                                                                                        8432\n",
       "Series 7                                                                                                             4365\n",
       "                                                                                                                    ...  \n",
       "Accounting for a Company's Stock and Dividend Transactions Alteryx Designer Core Certification                          1\n",
       "National Payroll Certification                                                                                          1\n",
       "K-Laser Advanced Training                                                                                               1\n",
       "Sales: Selling Financial Products and Services Securities Industry Essentials (SIE) Certified Public Accountant         1\n",
       "Quickbook Pro 2013                                                                                                      1\n",
       "Name: count, Length: 333660, dtype: int64"
      ]
     },
     "execution_count": 33,
     "metadata": {},
     "output_type": "execute_result"
    }
   ],
   "source": [
    "# Crate list of possible ways to say CPA\n",
    "cpa_list = ['Certified Public Accountant',\n",
    "           'CPA',\n",
    "           'Certified Public Accountant (CPA)']\n",
    "temp_df_cert['cert_name'].value_counts()\n"
   ]
  },
  {
   "cell_type": "code",
   "execution_count": 34,
   "metadata": {},
   "outputs": [
    {
     "name": "stderr",
     "output_type": "stream",
     "text": [
      "<ipython-input-34-431b9634f23d>:8: SettingWithCopyWarning: \n",
      "A value is trying to be set on a copy of a slice from a DataFrame\n",
      "\n",
      "See the caveats in the documentation: https://pandas.pydata.org/pandas-docs/stable/user_guide/indexing.html#returning-a-view-versus-a-copy\n",
      "  filtered_certification.drop_duplicates(inplace=True)\n",
      "<ipython-input-34-431b9634f23d>:9: SettingWithCopyWarning: \n",
      "A value is trying to be set on a copy of a slice from a DataFrame.\n",
      "Try using .loc[row_indexer,col_indexer] = value instead\n",
      "\n",
      "See the caveats in the documentation: https://pandas.pydata.org/pandas-docs/stable/user_guide/indexing.html#returning-a-view-versus-a-copy\n",
      "  filtered_certification['CPA'] = 1\n"
     ]
    },
    {
     "data": {
      "text/html": [
       "<div>\n",
       "<style scoped>\n",
       "    .dataframe tbody tr th:only-of-type {\n",
       "        vertical-align: middle;\n",
       "    }\n",
       "\n",
       "    .dataframe tbody tr th {\n",
       "        vertical-align: top;\n",
       "    }\n",
       "\n",
       "    .dataframe thead th {\n",
       "        text-align: right;\n",
       "    }\n",
       "</style>\n",
       "<table border=\"1\" class=\"dataframe\">\n",
       "  <thead>\n",
       "    <tr style=\"text-align: right;\">\n",
       "      <th></th>\n",
       "      <th>user_id</th>\n",
       "      <th>CPA</th>\n",
       "    </tr>\n",
       "  </thead>\n",
       "  <tbody>\n",
       "    <tr>\n",
       "      <th>22882</th>\n",
       "      <td>688008628</td>\n",
       "      <td>1</td>\n",
       "    </tr>\n",
       "    <tr>\n",
       "      <th>23643</th>\n",
       "      <td>471794319</td>\n",
       "      <td>1</td>\n",
       "    </tr>\n",
       "    <tr>\n",
       "      <th>24889</th>\n",
       "      <td>157847153</td>\n",
       "      <td>1</td>\n",
       "    </tr>\n",
       "    <tr>\n",
       "      <th>28388</th>\n",
       "      <td>95417987</td>\n",
       "      <td>1</td>\n",
       "    </tr>\n",
       "    <tr>\n",
       "      <th>30083</th>\n",
       "      <td>648846038</td>\n",
       "      <td>1</td>\n",
       "    </tr>\n",
       "    <tr>\n",
       "      <th>...</th>\n",
       "      <td>...</td>\n",
       "      <td>...</td>\n",
       "    </tr>\n",
       "    <tr>\n",
       "      <th>1271984</th>\n",
       "      <td>165226597</td>\n",
       "      <td>1</td>\n",
       "    </tr>\n",
       "    <tr>\n",
       "      <th>1274388</th>\n",
       "      <td>844930325</td>\n",
       "      <td>1</td>\n",
       "    </tr>\n",
       "    <tr>\n",
       "      <th>1274389</th>\n",
       "      <td>844930325</td>\n",
       "      <td>1</td>\n",
       "    </tr>\n",
       "    <tr>\n",
       "      <th>1279933</th>\n",
       "      <td>418784259</td>\n",
       "      <td>1</td>\n",
       "    </tr>\n",
       "    <tr>\n",
       "      <th>1282903</th>\n",
       "      <td>33674423</td>\n",
       "      <td>1</td>\n",
       "    </tr>\n",
       "  </tbody>\n",
       "</table>\n",
       "<p>126 rows × 2 columns</p>\n",
       "</div>"
      ],
      "text/plain": [
       "           user_id  CPA\n",
       "22882    688008628    1\n",
       "23643    471794319    1\n",
       "24889    157847153    1\n",
       "28388     95417987    1\n",
       "30083    648846038    1\n",
       "...            ...  ...\n",
       "1271984  165226597    1\n",
       "1274388  844930325    1\n",
       "1274389  844930325    1\n",
       "1279933  418784259    1\n",
       "1282903   33674423    1\n",
       "\n",
       "[126 rows x 2 columns]"
      ]
     },
     "execution_count": 34,
     "metadata": {},
     "output_type": "execute_result"
    }
   ],
   "source": [
    "# Filter the DataFrame to include only specific criteria\n",
    "filtered_certification = temp_df_cert[\n",
    "    (temp_df_cert['user_id'].isin(df_purdue_accounting_undergrads_names_date_master['user_id'])) &  # Ensure you reference the correct DataFrame\n",
    "    (temp_df_cert['cert_name'].isin(cpa_list))\n",
    "]\n",
    "\n",
    "# Add a flag to everyone that got a CPA\n",
    "filtered_certification.drop_duplicates(inplace=True)\n",
    "filtered_certification['CPA'] = 1\n",
    "filtered_certification = filtered_certification[['user_id','CPA']]\n",
    "filtered_certification"
   ]
  },
  {
   "cell_type": "code",
   "execution_count": 36,
   "metadata": {},
   "outputs": [],
   "source": [
    "df_purdue_accounting_undergrads_names_date_master_cpa = df_purdue_accounting_undergrads_names_date_master.merge(filtered_certification, on='user_id',how='left')\n",
    "\n",
    "#Fill all of the Nan's with 0 \n",
    "\n",
    "df_purdue_accounting_undergrads_names_date_master_cpa['CPA'] = df_purdue_accounting_undergrads_names_date_master_cpa['CPA'].fillna(0)"
   ]
  },
  {
   "cell_type": "markdown",
   "metadata": {},
   "source": [
    "# Statistics"
   ]
  },
  {
   "cell_type": "code",
   "execution_count": 38,
   "metadata": {},
   "outputs": [
    {
     "name": "stdout",
     "output_type": "stream",
     "text": [
      "Percentage of students who got a CPA: 8.11%\n"
     ]
    }
   ],
   "source": [
    "\n",
    "# Calculate percentage of students who got a CPA\n",
    "cpa_percentage = df_purdue_accounting_undergrads_names_date_master_cpa['CPA'].mean() * 100\n",
    "print(f\"Percentage of students who got a CPA: {cpa_percentage:.2f}%\")\n"
   ]
  },
  {
   "cell_type": "code",
   "execution_count": 40,
   "metadata": {},
   "outputs": [
    {
     "data": {
      "image/png": "[encoded data removed]",
      "text/plain": [
       "<Figure size 432x288 with 1 Axes>"
      ]
     },
     "metadata": {
      "needs_background": "light"
     },
     "output_type": "display_data"
    }
   ],
   "source": [
    "\n",
    "# Count the occurrences of each category\n",
    "cpa_counts = df_purdue_accounting_undergrads_names_date_master_cpa['CPA'].value_counts(normalize=True) * 100\n",
    "\n",
    "# Create a bar plot\n",
    "sns.barplot(x=cpa_counts.index, y=cpa_counts.values)\n",
    "plt.title('Percentage of Students with CPA Certification')\n",
    "plt.xlabel('CPA Certification (1 = Certified, 0 = Not Certified)')\n",
    "plt.ylabel('Percentage')\n",
    "plt.xticks([0, 1], ['Not Certified', 'Certified'])  # Rename x-ticks for clarity\n",
    "plt.show()\n"
   ]
  },
  {
   "cell_type": "code",
   "execution_count": 41,
   "metadata": {},
   "outputs": [],
   "source": [
    "# Group by 'degree_type' and 'CPA', then calculate percentage\n",
    "cpa_grouped = df_purdue_accounting_undergrads_names_date_master_cpa.groupby('Master')['CPA'].value_counts(normalize=True).mul(100).unstack()\n"
   ]
  },
  {
   "cell_type": "code",
   "execution_count": 46,
   "metadata": {},
   "outputs": [
    {
     "data": {
      "text/plain": [
       "<Figure size 1440x864 with 0 Axes>"
      ]
     },
     "metadata": {},
     "output_type": "display_data"
    },
    {
     "data": {
      "image/png": "[encoded data removed]",
      "text/plain": [
       "<Figure size 432x288 with 1 Axes>"
      ]
     },
     "metadata": {},
     "output_type": "display_data"
    }
   ],
   "source": [
    "# Set the aesthetic style of the plots\n",
    "sns.set(style=\"whitegrid\")\n",
    "\n",
    "# Increase the default figure size\n",
    "plt.figure(figsize=(20, 12))  # Width, height in inches\n",
    "\n",
    "# Example Data Preparation (assuming the dataframe is ready)\n",
    "# cpa_grouped = df_purdue_accounting_undergrads_names_date_master_cpa.groupby('degree_type')['CPA'].value_counts(normalize=True).mul(100).unstack()\n",
    "\n",
    "# Plotting the data\n",
    "ax = cpa_grouped.plot(kind='bar', stacked=True, color=['#ff9999','#66b3ff'])  # Choose colors for visual distinction\n",
    "\n",
    "# Title and labels\n",
    "plt.title('Percentage of CPA Certification by Degree Type', fontsize=16)\n",
    "plt.xlabel('Degree Type', fontsize=14)\n",
    "plt.ylabel('Percentage', fontsize=14)\n",
    "plt.xticks(rotation=0, fontsize=12)  # Keep the labels on the x-axis readable\n",
    "plt.yticks(fontsize=12)\n",
    "\n",
    "# Legend settings\n",
    "plt.legend(title='CPA Certification', labels=['Not Certified', 'Certified'], fontsize=12, title_fontsize=13)\n",
    "\n",
    "# Adding a grid for better readability of the plot\n",
    "plt.grid(True)\n",
    "\n",
    "# Show plot\n",
    "plt.show()\n"
   ]
  }
 ],
 "metadata": {
  "kernelspec": {
   "display_name": "Python 3",
   "language": "python",
   "name": "python3"
  },
  "language_info": {
   "codemirror_mode": {
    "name": "ipython",
    "version": 3
   },
   "file_extension": ".py",
   "mimetype": "text/x-python",
   "name": "python",
   "nbconvert_exporter": "python",
   "pygments_lexer": "ipython3",
   "version": "3.8.5"
  }
 },
 "nbformat": 4,
 "nbformat_minor": 4
}
